{
 "cells": [
  {
   "cell_type": "markdown",
   "id": "5aa82880",
   "metadata": {},
   "source": [
    "# Analysis of A/B Testing of the Landing Page for a Travel Agency"
   ]
  },
  {
   "cell_type": "markdown",
   "id": "f3ebaf10",
   "metadata": {},
   "source": [
    "**Business Task: Analysis of A/B Testing of Two Versions of a Travel Agency's Landing Page**\n",
    "\n",
    "Task Description:\n",
    "\n",
    "A travel agency conducted A/B testing to determine which of the two landing page designs on their website is more effective. During the test, users were divided into two groups:\n",
    "\n",
    "- **Group A**: The control group using the current version of the landing page.\n",
    "- **Group B**: The test group using the new version of the landing page.\n",
    "\n",
    "The testing aimed to increase the number of tour sales as well as the average purchase value. The key metrics for analysis include:\n",
    "\n",
    "1. **Conversion Rate**: The percentage of users who purchased a tour after visiting the landing page.\n",
    "2. **Average Purchase Value**: The average purchase amount made by users on the site.\n",
    "\n",
    "Objective:\n",
    "\n",
    "Identify which landing page (A or B) has a better impact on the key business metrics, and based on statistically significant data, choose the most effective option for further use. The main question is: **Which version of the travel agency's landing page design is more preferable in terms of conversion rate and average purchase value?**\n",
    "\n",
    "\n",
    "The company offers the following tour packages:\n",
    "\n",
    "Thailand — 100,000 RUB;\n",
    "Turkey — 60,000 RUB;\n",
    "Maldives — 200,000 RUB;\n",
    "Saint Petersburg — 10,000 RUB;\n",
    "Kamchatka — 150,000 RUB;"
   ]
  },
  {
   "cell_type": "code",
   "execution_count": 1,
   "id": "16ed19c1",
   "metadata": {},
   "outputs": [],
   "source": [
    "\n",
    "import pandas as pd\n",
    "import matplotlib.pyplot as plt\n",
    "\n",
    "from scipy import stats\n",
    "\n",
    "import numpy as np\n",
    "from statsmodels.stats.proportion import proportion_confint"
   ]
  },
  {
   "cell_type": "markdown",
   "id": "bee9390b",
   "metadata": {},
   "source": [
    "## Step 1. Data Structure Analysis and Preprocessing"
   ]
  },
  {
   "cell_type": "code",
   "execution_count": 2,
   "id": "26536209",
   "metadata": {},
   "outputs": [
    {
     "name": "stdout",
     "output_type": "stream",
     "text": [
      "<class 'pandas.core.frame.DataFrame'>\n",
      "RangeIndex: 294478 entries, 0 to 294477\n",
      "Data columns (total 5 columns):\n",
      " #   Column    Non-Null Count   Dtype \n",
      "---  ------    --------------   ----- \n",
      " 0   user_id   294478 non-null  int64 \n",
      " 1   date      294478 non-null  object\n",
      " 2   group     294478 non-null  object\n",
      " 3   purchase  294478 non-null  int64 \n",
      " 4   price     294478 non-null  int64 \n",
      "dtypes: int64(3), object(2)\n",
      "memory usage: 11.2+ MB\n"
     ]
    }
   ],
   "source": [
    "# Loading the Data\n",
    "data = pd.read_csv('data/ab_data_tourist.csv')\n",
    "\n",
    "# View the first rows of the dataset\n",
    "data.head()\n",
    "\n",
    "# Get information about the dataset\n",
    "data.info()"
   ]
  },
  {
   "cell_type": "code",
   "execution_count": 3,
   "id": "63258255",
   "metadata": {},
   "outputs": [
    {
     "data": {
      "text/plain": [
       "user_id     0\n",
       "date        0\n",
       "group       0\n",
       "purchase    0\n",
       "price       0\n",
       "dtype: int64"
      ]
     },
     "execution_count": 3,
     "metadata": {},
     "output_type": "execute_result"
    }
   ],
   "source": [
    "data.isna().sum()"
   ]
  },
  {
   "cell_type": "markdown",
   "id": "ab8d9ea9",
   "metadata": {},
   "source": [
    "\n",
    "### Data Transformation and Removing Users Appearing in Both Groups\n"
   ]
  },
  {
   "cell_type": "code",
   "execution_count": 4,
   "id": "77f64719",
   "metadata": {},
   "outputs": [],
   "source": [
    "\n",
    "# Identify users who belong to both groups\n",
    "user_groups = data.groupby('user_id')['group'].nunique()\n",
    "double_group_users = user_groups[user_groups > 1].index\n",
    "\n",
    "# Remove users who appeared in both groups\n",
    "data = data[~data['user_id'].isin(double_group_users)]\n"
   ]
  },
  {
   "cell_type": "markdown",
   "id": "7c8e8fcf",
   "metadata": {},
   "source": [
    "### Converting the Date Column to the Appropriate Data Type"
   ]
  },
  {
   "cell_type": "code",
   "execution_count": 5,
   "id": "c3797a7c",
   "metadata": {},
   "outputs": [],
   "source": [
    "\n",
    "# Convert the 'date' column to datetime format\n",
    "data['date'] = pd.to_datetime(data['date'])\n"
   ]
  },
  {
   "cell_type": "markdown",
   "id": "8b761791",
   "metadata": {},
   "source": [
    "### Checking the Duration of the Experiment"
   ]
  },
  {
   "cell_type": "code",
   "execution_count": 6,
   "id": "129a72ee",
   "metadata": {},
   "outputs": [
    {
     "data": {
      "text/html": [
       "<div>\n",
       "<style scoped>\n",
       "    .dataframe tbody tr th:only-of-type {\n",
       "        vertical-align: middle;\n",
       "    }\n",
       "\n",
       "    .dataframe tbody tr th {\n",
       "        vertical-align: top;\n",
       "    }\n",
       "\n",
       "    .dataframe thead th {\n",
       "        text-align: right;\n",
       "    }\n",
       "</style>\n",
       "<table border=\"1\" class=\"dataframe\">\n",
       "  <thead>\n",
       "    <tr style=\"text-align: right;\">\n",
       "      <th></th>\n",
       "      <th>min</th>\n",
       "      <th>max</th>\n",
       "    </tr>\n",
       "    <tr>\n",
       "      <th>group</th>\n",
       "      <th></th>\n",
       "      <th></th>\n",
       "    </tr>\n",
       "  </thead>\n",
       "  <tbody>\n",
       "    <tr>\n",
       "      <th>A</th>\n",
       "      <td>2021-01-02</td>\n",
       "      <td>2021-01-24</td>\n",
       "    </tr>\n",
       "    <tr>\n",
       "      <th>B</th>\n",
       "      <td>2021-01-02</td>\n",
       "      <td>2021-01-24</td>\n",
       "    </tr>\n",
       "  </tbody>\n",
       "</table>\n",
       "</div>"
      ],
      "text/plain": [
       "             min        max\n",
       "group                      \n",
       "A     2021-01-02 2021-01-24\n",
       "B     2021-01-02 2021-01-24"
      ]
     },
     "execution_count": 6,
     "metadata": {},
     "output_type": "execute_result"
    }
   ],
   "source": [
    "\n",
    "# Check the minimum and maximum dates for each group\n",
    "data.groupby('group')['date'].agg(['min', 'max'])\n"
   ]
  },
  {
   "cell_type": "markdown",
   "id": "61fd76b3",
   "metadata": {},
   "source": [
    "## Step 2. Preliminary Analysis of Results"
   ]
  },
  {
   "cell_type": "code",
   "execution_count": 7,
   "id": "2de55a08",
   "metadata": {},
   "outputs": [
    {
     "data": {
      "text/html": [
       "<div>\n",
       "<style scoped>\n",
       "    .dataframe tbody tr th:only-of-type {\n",
       "        vertical-align: middle;\n",
       "    }\n",
       "\n",
       "    .dataframe tbody tr th {\n",
       "        vertical-align: top;\n",
       "    }\n",
       "\n",
       "    .dataframe thead th {\n",
       "        text-align: right;\n",
       "    }\n",
       "</style>\n",
       "<table border=\"1\" class=\"dataframe\">\n",
       "  <thead>\n",
       "    <tr style=\"text-align: right;\">\n",
       "      <th></th>\n",
       "      <th>visits</th>\n",
       "      <th>purchases</th>\n",
       "      <th>total_price</th>\n",
       "      <th>conversion_rate</th>\n",
       "      <th>average_check</th>\n",
       "    </tr>\n",
       "    <tr>\n",
       "      <th>group</th>\n",
       "      <th></th>\n",
       "      <th></th>\n",
       "      <th></th>\n",
       "      <th></th>\n",
       "      <th></th>\n",
       "    </tr>\n",
       "  </thead>\n",
       "  <tbody>\n",
       "    <tr>\n",
       "      <th>A</th>\n",
       "      <td>145307</td>\n",
       "      <td>17487</td>\n",
       "      <td>1417780000</td>\n",
       "      <td>0.120345</td>\n",
       "      <td>81076.228055</td>\n",
       "    </tr>\n",
       "    <tr>\n",
       "      <th>B</th>\n",
       "      <td>145381</td>\n",
       "      <td>17290</td>\n",
       "      <td>1533010000</td>\n",
       "      <td>0.118929</td>\n",
       "      <td>88664.545980</td>\n",
       "    </tr>\n",
       "  </tbody>\n",
       "</table>\n",
       "</div>"
      ],
      "text/plain": [
       "       visits  purchases  total_price  conversion_rate  average_check\n",
       "group                                                                \n",
       "A      145307      17487   1417780000         0.120345   81076.228055\n",
       "B      145381      17290   1533010000         0.118929   88664.545980"
      ]
     },
     "execution_count": 7,
     "metadata": {},
     "output_type": "execute_result"
    }
   ],
   "source": [
    "\n",
    "# Grouping data and calculating visits, purchases, and total revenue\n",
    "group_data = data.groupby('group').agg({\n",
    "    'user_id': 'count',    # Number of visits\n",
    "    'purchase': 'sum',     # Number of purchases\n",
    "    'price': 'sum'         # Total revenue\n",
    "}).rename(columns={\n",
    "    'user_id': 'visits', \n",
    "    'purchase': 'purchases', \n",
    "    'price': 'total_price'\n",
    "})\n",
    "\n",
    "# Calculating key metrics:\n",
    "# 1. Conversion Rate (number of purchases / number of visits)\n",
    "group_data['conversion_rate'] = group_data['purchases'] / group_data['visits']\n",
    "\n",
    "# 2. Average Check (total revenue / number of purchases)\n",
    "group_data['average_check'] = group_data['total_price'] / group_data['purchases']\n",
    "\n",
    "# Displaying the summary table with results\n",
    "group_data\n"
   ]
  },
  {
   "cell_type": "markdown",
   "id": "5a993426",
   "metadata": {},
   "source": [
    "Preliminary Conclusion:\n",
    "\n",
    "Based on these data, it can be inferred that the landing page version in Group A is more effective in terms of conversion rate, as the proportion of purchases relative to the number of visits is higher. However, the landing page version in Group B demonstrates higher performance in terms of average purchase value and total revenue, suggesting it may be better at attracting customers to higher-priced offerings.\n",
    "\n",
    "This highlights a trade-off between conversion efficiency and revenue generation, warranting further statistical analysis to make a data-driven decision."
   ]
  },
  {
   "cell_type": "markdown",
   "id": "017bba3d",
   "metadata": {},
   "source": [
    "## Step 3. Checking the Stabilization of Metrics"
   ]
  },
  {
   "cell_type": "code",
   "execution_count": 8,
   "id": "68215b8e",
   "metadata": {},
   "outputs": [
    {
     "data": {
      "text/html": [
       "<div>\n",
       "<style scoped>\n",
       "    .dataframe tbody tr th:only-of-type {\n",
       "        vertical-align: middle;\n",
       "    }\n",
       "\n",
       "    .dataframe tbody tr th {\n",
       "        vertical-align: top;\n",
       "    }\n",
       "\n",
       "    .dataframe thead th {\n",
       "        text-align: right;\n",
       "    }\n",
       "</style>\n",
       "<table border=\"1\" class=\"dataframe\">\n",
       "  <thead>\n",
       "    <tr style=\"text-align: right;\">\n",
       "      <th></th>\n",
       "      <th></th>\n",
       "      <th>visits</th>\n",
       "      <th>purchases</th>\n",
       "      <th>total_price</th>\n",
       "      <th>conversion_rate</th>\n",
       "      <th>average_check</th>\n",
       "    </tr>\n",
       "    <tr>\n",
       "      <th>date</th>\n",
       "      <th>group</th>\n",
       "      <th></th>\n",
       "      <th></th>\n",
       "      <th></th>\n",
       "      <th></th>\n",
       "      <th></th>\n",
       "    </tr>\n",
       "  </thead>\n",
       "  <tbody>\n",
       "    <tr>\n",
       "      <th rowspan=\"2\" valign=\"top\">2021-01-02</th>\n",
       "      <th>A</th>\n",
       "      <td>2854</td>\n",
       "      <td>359</td>\n",
       "      <td>29410000</td>\n",
       "      <td>0.125788</td>\n",
       "      <td>81922.005571</td>\n",
       "    </tr>\n",
       "    <tr>\n",
       "      <th>B</th>\n",
       "      <td>2861</td>\n",
       "      <td>345</td>\n",
       "      <td>29660000</td>\n",
       "      <td>0.120587</td>\n",
       "      <td>85971.014493</td>\n",
       "    </tr>\n",
       "    <tr>\n",
       "      <th rowspan=\"2\" valign=\"top\">2021-01-03</th>\n",
       "      <th>A</th>\n",
       "      <td>6596</td>\n",
       "      <td>748</td>\n",
       "      <td>62000000</td>\n",
       "      <td>0.113402</td>\n",
       "      <td>82887.700535</td>\n",
       "    </tr>\n",
       "    <tr>\n",
       "      <th>B</th>\n",
       "      <td>6619</td>\n",
       "      <td>754</td>\n",
       "      <td>65960000</td>\n",
       "      <td>0.113914</td>\n",
       "      <td>87480.106101</td>\n",
       "    </tr>\n",
       "    <tr>\n",
       "      <th>2021-01-04</th>\n",
       "      <th>A</th>\n",
       "      <td>6566</td>\n",
       "      <td>799</td>\n",
       "      <td>64250000</td>\n",
       "      <td>0.121687</td>\n",
       "      <td>80413.016270</td>\n",
       "    </tr>\n",
       "  </tbody>\n",
       "</table>\n",
       "</div>"
      ],
      "text/plain": [
       "                  visits  purchases  total_price  conversion_rate  \\\n",
       "date       group                                                    \n",
       "2021-01-02 A        2854        359     29410000         0.125788   \n",
       "           B        2861        345     29660000         0.120587   \n",
       "2021-01-03 A        6596        748     62000000         0.113402   \n",
       "           B        6619        754     65960000         0.113914   \n",
       "2021-01-04 A        6566        799     64250000         0.121687   \n",
       "\n",
       "                  average_check  \n",
       "date       group                 \n",
       "2021-01-02 A       81922.005571  \n",
       "           B       85971.014493  \n",
       "2021-01-03 A       82887.700535  \n",
       "           B       87480.106101  \n",
       "2021-01-04 A       80413.016270  "
      ]
     },
     "execution_count": 8,
     "metadata": {},
     "output_type": "execute_result"
    }
   ],
   "source": [
    "\n",
    "# Group the data by date and group\n",
    "daily_data = data.groupby(['date', 'group']).agg({\n",
    "    'user_id': 'count',  \n",
    "    'purchase': 'sum',   \n",
    "    'price': 'sum'       \n",
    "}).rename(columns={'user_id': 'visits', 'purchase': 'purchases', 'price': 'total_price'})\n",
    "daily_data['conversion_rate'] = daily_data['purchases'] / daily_data['visits']  \n",
    "daily_data['average_check'] = daily_data['total_price'] / daily_data['purchases'] \n",
    "\n",
    "daily_data.head()  "
   ]
  },
  {
   "cell_type": "markdown",
   "id": "eae503a8",
   "metadata": {},
   "source": [
    "### Cumulative Metrics"
   ]
  },
  {
   "cell_type": "code",
   "execution_count": 9,
   "id": "42e5ff4b",
   "metadata": {},
   "outputs": [
    {
     "data": {
      "text/html": [
       "<div>\n",
       "<style scoped>\n",
       "    .dataframe tbody tr th:only-of-type {\n",
       "        vertical-align: middle;\n",
       "    }\n",
       "\n",
       "    .dataframe tbody tr th {\n",
       "        vertical-align: top;\n",
       "    }\n",
       "\n",
       "    .dataframe thead th {\n",
       "        text-align: right;\n",
       "    }\n",
       "</style>\n",
       "<table border=\"1\" class=\"dataframe\">\n",
       "  <thead>\n",
       "    <tr style=\"text-align: right;\">\n",
       "      <th></th>\n",
       "      <th></th>\n",
       "      <th>visits</th>\n",
       "      <th>purchases</th>\n",
       "      <th>total_price</th>\n",
       "      <th>conversion_rate</th>\n",
       "      <th>average_check</th>\n",
       "      <th>cum_visits</th>\n",
       "      <th>cum_purchases</th>\n",
       "      <th>cum_total_price</th>\n",
       "      <th>cum_conversion_rate</th>\n",
       "      <th>cum_average_check</th>\n",
       "    </tr>\n",
       "    <tr>\n",
       "      <th>date</th>\n",
       "      <th>group</th>\n",
       "      <th></th>\n",
       "      <th></th>\n",
       "      <th></th>\n",
       "      <th></th>\n",
       "      <th></th>\n",
       "      <th></th>\n",
       "      <th></th>\n",
       "      <th></th>\n",
       "      <th></th>\n",
       "      <th></th>\n",
       "    </tr>\n",
       "  </thead>\n",
       "  <tbody>\n",
       "    <tr>\n",
       "      <th rowspan=\"2\" valign=\"top\">2021-01-02</th>\n",
       "      <th>A</th>\n",
       "      <td>2854</td>\n",
       "      <td>359</td>\n",
       "      <td>29410000</td>\n",
       "      <td>0.125788</td>\n",
       "      <td>81922.005571</td>\n",
       "      <td>2854</td>\n",
       "      <td>359</td>\n",
       "      <td>29410000</td>\n",
       "      <td>0.125788</td>\n",
       "      <td>81922.005571</td>\n",
       "    </tr>\n",
       "    <tr>\n",
       "      <th>B</th>\n",
       "      <td>2861</td>\n",
       "      <td>345</td>\n",
       "      <td>29660000</td>\n",
       "      <td>0.120587</td>\n",
       "      <td>85971.014493</td>\n",
       "      <td>2861</td>\n",
       "      <td>345</td>\n",
       "      <td>29660000</td>\n",
       "      <td>0.120587</td>\n",
       "      <td>85971.014493</td>\n",
       "    </tr>\n",
       "    <tr>\n",
       "      <th rowspan=\"2\" valign=\"top\">2021-01-03</th>\n",
       "      <th>A</th>\n",
       "      <td>6596</td>\n",
       "      <td>748</td>\n",
       "      <td>62000000</td>\n",
       "      <td>0.113402</td>\n",
       "      <td>82887.700535</td>\n",
       "      <td>9450</td>\n",
       "      <td>1107</td>\n",
       "      <td>91410000</td>\n",
       "      <td>0.117143</td>\n",
       "      <td>82574.525745</td>\n",
       "    </tr>\n",
       "    <tr>\n",
       "      <th>B</th>\n",
       "      <td>6619</td>\n",
       "      <td>754</td>\n",
       "      <td>65960000</td>\n",
       "      <td>0.113914</td>\n",
       "      <td>87480.106101</td>\n",
       "      <td>9480</td>\n",
       "      <td>1099</td>\n",
       "      <td>95620000</td>\n",
       "      <td>0.115928</td>\n",
       "      <td>87006.369427</td>\n",
       "    </tr>\n",
       "    <tr>\n",
       "      <th>2021-01-04</th>\n",
       "      <th>A</th>\n",
       "      <td>6566</td>\n",
       "      <td>799</td>\n",
       "      <td>64250000</td>\n",
       "      <td>0.121687</td>\n",
       "      <td>80413.016270</td>\n",
       "      <td>16016</td>\n",
       "      <td>1906</td>\n",
       "      <td>155660000</td>\n",
       "      <td>0.119006</td>\n",
       "      <td>81668.415530</td>\n",
       "    </tr>\n",
       "  </tbody>\n",
       "</table>\n",
       "</div>"
      ],
      "text/plain": [
       "                  visits  purchases  total_price  conversion_rate  \\\n",
       "date       group                                                    \n",
       "2021-01-02 A        2854        359     29410000         0.125788   \n",
       "           B        2861        345     29660000         0.120587   \n",
       "2021-01-03 A        6596        748     62000000         0.113402   \n",
       "           B        6619        754     65960000         0.113914   \n",
       "2021-01-04 A        6566        799     64250000         0.121687   \n",
       "\n",
       "                  average_check  cum_visits  cum_purchases  cum_total_price  \\\n",
       "date       group                                                              \n",
       "2021-01-02 A       81922.005571        2854            359         29410000   \n",
       "           B       85971.014493        2861            345         29660000   \n",
       "2021-01-03 A       82887.700535        9450           1107         91410000   \n",
       "           B       87480.106101        9480           1099         95620000   \n",
       "2021-01-04 A       80413.016270       16016           1906        155660000   \n",
       "\n",
       "                  cum_conversion_rate  cum_average_check  \n",
       "date       group                                          \n",
       "2021-01-02 A                 0.125788       81922.005571  \n",
       "           B                 0.120587       85971.014493  \n",
       "2021-01-03 A                 0.117143       82574.525745  \n",
       "           B                 0.115928       87006.369427  \n",
       "2021-01-04 A                 0.119006       81668.415530  "
      ]
     },
     "execution_count": 9,
     "metadata": {},
     "output_type": "execute_result"
    }
   ],
   "source": [
    "# Calculation of Cumulative Metrics\n",
    "daily_data['cum_visits'] = daily_data.groupby('group')['visits'].cumsum()  \n",
    "daily_data['cum_purchases'] = daily_data.groupby('group')['purchases'].cumsum()  \n",
    "daily_data['cum_total_price'] = daily_data.groupby('group')['total_price'].cumsum() \n",
    "daily_data['cum_conversion_rate'] = daily_data['cum_purchases'] / daily_data['cum_visits']  \n",
    "daily_data['cum_average_check'] = daily_data['cum_total_price'] / daily_data['cum_purchases']  \n",
    "\n",
    "# Display cumulative data\n",
    "daily_data.head()"
   ]
  },
  {
   "cell_type": "markdown",
   "id": "0c7d6aab",
   "metadata": {},
   "source": [
    "### Plotting Cumulative Metrics"
   ]
  },
  {
   "cell_type": "code",
   "execution_count": 10,
   "id": "1091126b",
   "metadata": {},
   "outputs": [
    {
     "data": {
      "image/png": "[encoded data removed]",
      "text/plain": [
       "<Figure size 1000x600 with 1 Axes>"
      ]
     },
     "metadata": {},
     "output_type": "display_data"
    }
   ],
   "source": [
    "# Cumulative Conversion\n",
    "plt.figure(figsize=(10, 6))\n",
    "for group in ['A', 'B']:\n",
    "    # Filter data by group\n",
    "    group_data = daily_data.xs(group, level='group')\n",
    "    plt.plot(group_data['cum_conversion_rate'], label=f'Group {group}')\n",
    "plt.legend()\n",
    "plt.title('Cumulative Conversion by Day')\n",
    "plt.xlabel('Date')\n",
    "plt.ylabel('Cumulative Conversion')\n",
    "plt.xticks(rotation=45)\n",
    "plt.show()"
   ]
  },
  {
   "cell_type": "code",
   "execution_count": 11,
   "id": "264ec070",
   "metadata": {},
   "outputs": [
    {
     "data": {
      "image/png": "[encoded data removed]",
      "text/plain": [
       "<Figure size 1000x600 with 1 Axes>"
      ]
     },
     "metadata": {},
     "output_type": "display_data"
    }
   ],
   "source": [
    "\n",
    "# Cumulative Average Check\n",
    "plt.figure(figsize=(10, 6))\n",
    "for group in ['A', 'B']:\n",
    "    # Filter data by group\n",
    "    group_data = daily_data.xs(group, level='group')\n",
    "    plt.plot(group_data['cum_average_check'], label=f'Group {group}')\n",
    "plt.legend()\n",
    "plt.title('Cumulative Average Check by Day')\n",
    "plt.xlabel('Date')\n",
    "plt.ylabel('Cumulative Average Check')\n",
    "plt.xticks(rotation=45)\n",
    "plt.show()\n"
   ]
  },
  {
   "cell_type": "markdown",
   "id": "5029cc0e",
   "metadata": {},
   "source": [
    "Conclusion:\n",
    "\n",
    "**Cumulative Conversion:**\n",
    "\n",
    "- Group A demonstrates a higher cumulative conversion rate (approximately 12.0%) compared to Group B (approximately 11.8%). This indicates that users in Group A make purchases more frequently.\n",
    "- Both groups stabilized toward the end of the experiment, as shown by the smoothing of the lines on the graph. This suggests that the conversion rate in each group has reached a stable level, and further data collection is unlikely to result in significant changes in outcomes.\n",
    "\n",
    "**Cumulative Average Check:**\n",
    "\n",
    "- Group B has a significantly higher average check (approximately 88,000 RUB), while Group A has an average check of around 81,000 RUB.\n",
    "- The average check also stabilized in both groups toward the end of the experiment. The graph for Group B demonstrates that users are more inclined to purchase higher-priced tours compared to users in Group A.\n",
    "\n",
    "**Conclusion:**\n",
    "\n",
    "- Both metrics — conversion rate and average check — stabilized by the end of the experiment, indicating the completion of the A/B test. The data is now ready for statistical analysis and decision-making.\n",
    "- Group A shows better conversion, but Group B achieves a higher average check and overall revenue."
   ]
  },
  {
   "cell_type": "markdown",
   "id": "09582e61",
   "metadata": {},
   "source": [
    "## Step 4. Statistical Analysis of A/B Test Results"
   ]
  },
  {
   "cell_type": "code",
   "execution_count": 12,
   "id": "7f40be7f",
   "metadata": {},
   "outputs": [
    {
     "name": "stdout",
     "output_type": "stream",
     "text": [
      "Shapiro-Wilk for Group A: ShapiroResult(statistic=0.37953467243030925, pvalue=4.010505867307096e-178)\n",
      "Shapiro-Wilk for Group B: ShapiroResult(statistic=0.3770869938234658, pvalue=2.835895954297904e-178)\n",
      "Mann-Whitney test for conversion: U-statistic = 10577398242.0, p-value = 0.23940832239601229\n"
     ]
    },
    {
     "name": "stderr",
     "output_type": "stream",
     "text": [
      "c:\\Users\\mazur\\anaconda3\\Lib\\site-packages\\scipy\\stats\\_axis_nan_policy.py:531: UserWarning: scipy.stats.shapiro: For N > 5000, computed p-value may not be accurate. Current N is 145307.\n",
      "  res = hypotest_fun_out(*samples, **kwds)\n",
      "c:\\Users\\mazur\\anaconda3\\Lib\\site-packages\\scipy\\stats\\_axis_nan_policy.py:531: UserWarning: scipy.stats.shapiro: For N > 5000, computed p-value may not be accurate. Current N is 145381.\n",
      "  res = hypotest_fun_out(*samples, **kwds)\n"
     ]
    }
   ],
   "source": [
    "# 1. Hypothesis Formulation\n",
    "# Null hypothesis: Conversion rates in both groups are equal.\n",
    "# Alternative hypothesis: Conversion rates in the groups differ.\n",
    "\n",
    "# 2. Testing data for normality for conversion rates\n",
    "conversion_A = data[data['group'] == 'A']['purchase']\n",
    "conversion_B = data[data['group'] == 'B']['purchase']\n",
    "\n",
    "# Check normality using the Shapiro-Wilk test\n",
    "shapiro_A = stats.shapiro(conversion_A)\n",
    "shapiro_B = stats.shapiro(conversion_B)\n",
    "\n",
    "print(f'Shapiro-Wilk for Group A: {shapiro_A}')\n",
    "print(f'Shapiro-Wilk for Group B: {shapiro_B}')\n",
    "\n",
    "# If p-value > 0.05, the data is normally distributed.\n",
    "# If normality is confirmed for both groups, use a t-test.\n",
    "if shapiro_A.pvalue > 0.05 and shapiro_B.pvalue > 0.05:\n",
    "    # t-test to check for differences in conversion rates\n",
    "    t_stat_conversion, p_value_conversion = stats.ttest_ind(conversion_A, conversion_B)\n",
    "    print(f't-test for conversion: t-statistic = {t_stat_conversion}, p-value = {p_value_conversion}')\n",
    "else:\n",
    "    # If data is not normally distributed, use the Mann-Whitney test\n",
    "    u_stat_conversion, p_value_conversion = stats.mannwhitneyu(conversion_A, conversion_B)\n",
    "    print(f'Mann-Whitney test for conversion: U-statistic = {u_stat_conversion}, p-value = {p_value_conversion}')\n"
   ]
  },
  {
   "cell_type": "code",
   "execution_count": 13,
   "id": "6c2f964f",
   "metadata": {},
   "outputs": [
    {
     "name": "stdout",
     "output_type": "stream",
     "text": [
      "Shapiro-Wilk for average check in Group A: ShapiroResult(statistic=0.8617222010315055, pvalue=4.921806060683772e-81)\n",
      "Shapiro-Wilk for average check in Group B: ShapiroResult(statistic=0.876802108069644, pvalue=3.29687377442508e-78)\n",
      "Mann-Whitney test for average check: U-statistic = 139547139.0, p-value = 2.825361345286736e-37\n"
     ]
    },
    {
     "name": "stderr",
     "output_type": "stream",
     "text": [
      "c:\\Users\\mazur\\anaconda3\\Lib\\site-packages\\scipy\\stats\\_axis_nan_policy.py:531: UserWarning: scipy.stats.shapiro: For N > 5000, computed p-value may not be accurate. Current N is 17487.\n",
      "  res = hypotest_fun_out(*samples, **kwds)\n",
      "c:\\Users\\mazur\\anaconda3\\Lib\\site-packages\\scipy\\stats\\_axis_nan_policy.py:531: UserWarning: scipy.stats.shapiro: For N > 5000, computed p-value may not be accurate. Current N is 17290.\n",
      "  res = hypotest_fun_out(*samples, **kwds)\n"
     ]
    }
   ],
   "source": [
    "# 3. Testing data for normality for average purchase value\n",
    "check_A = data[(data['group'] == 'A') & (data['purchase'] == 1)]['price']\n",
    "check_B = data[(data['group'] == 'B') & (data['purchase'] == 1)]['price']\n",
    "\n",
    "# Check normality using the Shapiro-Wilk test\n",
    "shapiro_A_check = stats.shapiro(check_A)\n",
    "shapiro_B_check = stats.shapiro(check_B)\n",
    "\n",
    "print(f'Shapiro-Wilk for average check in Group A: {shapiro_A_check}')\n",
    "print(f'Shapiro-Wilk for average check in Group B: {shapiro_B_check}')\n",
    "\n",
    "# If the data is normally distributed, use a t-test.\n",
    "if shapiro_A_check.pvalue > 0.05 and shapiro_B_check.pvalue > 0.05:\n",
    "    # t-test to check for differences in average purchase value\n",
    "    t_stat_check, p_value_check = stats.ttest_ind(check_A, check_B)\n",
    "    print(f't-test for average check: t-statistic = {t_stat_check}, p-value = {p_value_check}')\n",
    "else:\n",
    "    # If data is not normally distributed, use the Mann-Whitney test\n",
    "    u_stat_check, p_value_check = stats.mannwhitneyu(check_A, check_B)\n",
    "    print(f'Mann-Whitney test for average check: U-statistic = {u_stat_check}, p-value = {p_value_check}')\n"
   ]
  },
  {
   "cell_type": "markdown",
   "id": "23ee54b9",
   "metadata": {},
   "source": [
    "### Conclusions:\n",
    "\n",
    "**Conversion Rate:**\n",
    "- Based on the Mann-Whitney test, there is no statistically significant difference between the conversion rates in Groups A and B.\n",
    "\n",
    "**Average Purchase Value:**\n",
    "- There are statistically significant differences in the average purchase value between Groups A and B. Group B demonstrates a significantly higher average check compared to Group A.\n",
    "\n",
    "**Summary:**\n",
    "- The hypothesis of equal conversion rates in both groups is confirmed (the difference is insignificant).\n",
    "- The hypothesis of equal average purchase values is rejected — Group B significantly outperforms Group A in this metric.\n"
   ]
  },
  {
   "cell_type": "markdown",
   "id": "6b012778",
   "metadata": {},
   "source": [
    "## Step 5. Confidence Intervals"
   ]
  },
  {
   "cell_type": "code",
   "execution_count": 14,
   "id": "cae2a480",
   "metadata": {},
   "outputs": [
    {
     "name": "stdout",
     "output_type": "stream",
     "text": [
      "95% Confidence Interval for Conversion Rate (Group A): [0.1187, 0.1220]\n",
      "95% Confidence Interval for Conversion Rate (Group B): [0.1173, 0.1206]\n"
     ]
    }
   ],
   "source": [
    "\n",
    "# 1. Confidence Intervals for Conversion in Each Group\n",
    "# Conversion for Group A\n",
    "n_A = data[data['group'] == 'A']['purchase'].count()  # Number of users in Group A\n",
    "p_A = data[data['group'] == 'A']['purchase'].mean()  # Conversion rate for Group A\n",
    "ci_A_low, ci_A_high = proportion_confint(count=int(p_A * n_A), nobs=n_A, alpha=0.05, method='normal')\n",
    "\n",
    "# Conversion for Group B\n",
    "n_B = data[data['group'] == 'B']['purchase'].count()  # Number of users in Group B\n",
    "p_B = data[data['group'] == 'B']['purchase'].mean()  # Conversion rate for Group B\n",
    "ci_B_low, ci_B_high = proportion_confint(count=int(p_B * n_B), nobs=n_B, alpha=0.05, method='normal')\n",
    "\n",
    "print(f'95% Confidence Interval for Conversion Rate (Group A): [{ci_A_low:.4f}, {ci_A_high:.4f}]')\n",
    "print(f'95% Confidence Interval for Conversion Rate (Group B): [{ci_B_low:.4f}, {ci_B_high:.4f}]')\n"
   ]
  },
  {
   "cell_type": "code",
   "execution_count": 16,
   "id": "9a3c6ce3",
   "metadata": {},
   "outputs": [
    {
     "name": "stdout",
     "output_type": "stream",
     "text": [
      "95% Confidence Interval for the Difference in Conversion Rates: [-0.0009, 0.0038]\n"
     ]
    }
   ],
   "source": [
    "# 2. Confidence Interval for the Difference in Conversion Rates\n",
    "# Standard error of the difference in conversion rates\n",
    "se_diff = np.sqrt(p_A * (1 - p_A) / n_A + p_B * (1 - p_B) / n_B)\n",
    "\n",
    "# Difference in conversion rates\n",
    "diff = p_A - p_B\n",
    "\n",
    "# 95% confidence interval for the difference in conversion rates\n",
    "ci_diff_low = diff - 1.96 * se_diff\n",
    "ci_diff_high = diff + 1.96 * se_diff\n",
    "\n",
    "print(f'95% Confidence Interval for the Difference in Conversion Rates: [{ci_diff_low:.4f}, {ci_diff_high:.4f}]')\n"
   ]
  },
  {
   "cell_type": "code",
   "execution_count": 17,
   "id": "2adb36b5",
   "metadata": {},
   "outputs": [
    {
     "name": "stdout",
     "output_type": "stream",
     "text": [
      "95% Confidence Interval for Average Check (Group A): [80137.91, 82014.55]\n",
      "95% Confidence Interval for Average Check (Group B): [87728.29, 89600.80]\n"
     ]
    }
   ],
   "source": [
    "# 3. Confidence Intervals for Average Purchase Value in Each Group\n",
    "# Average check for Group A\n",
    "mean_check_A = data[(data['group'] == 'A') & (data['purchase'] == 1)]['price'].mean()\n",
    "std_check_A = data[(data['group'] == 'A') & (data['purchase'] == 1)]['price'].std()\n",
    "n_check_A = data[(data['group'] == 'A') & (data['purchase'] == 1)]['price'].count()\n",
    "\n",
    "# 95% confidence interval for average check in Group A\n",
    "ci_check_A_low = mean_check_A - 1.96 * (std_check_A / np.sqrt(n_check_A))\n",
    "ci_check_A_high = mean_check_A + 1.96 * (std_check_A / np.sqrt(n_check_A))\n",
    "\n",
    "# Average check for Group B\n",
    "mean_check_B = data[(data['group'] == 'B') & (data['purchase'] == 1)]['price'].mean()\n",
    "std_check_B = data[(data['group'] == 'B') & (data['purchase'] == 1)]['price'].std()\n",
    "n_check_B = data[(data['group'] == 'B') & (data['purchase'] == 1)]['price'].count()\n",
    "\n",
    "# 95% confidence interval for average check in Group B\n",
    "ci_check_B_low = mean_check_B - 1.96 * (std_check_B / np.sqrt(n_check_B))\n",
    "ci_check_B_high = mean_check_B + 1.96 * (std_check_B / np.sqrt(n_check_B))\n",
    "\n",
    "print(f'95% Confidence Interval for Average Check (Group A): [{ci_check_A_low:.2f}, {ci_check_A_high:.2f}]')\n",
    "print(f'95% Confidence Interval for Average Check (Group B): [{ci_check_B_low:.2f}, {ci_check_B_high:.2f}]')\n"
   ]
  },
  {
   "cell_type": "markdown",
   "id": "709a14ad",
   "metadata": {},
   "source": [
    "Conclusion:\n",
    "* **Conversion Rate:** Confidence intervals indicate that the difference in conversion rates between Groups A and B is not significant. The conversion rates in both groups are approximately the same, with differences falling within the range of random fluctuations.\n",
    "\n",
    "* **Average Purchase Value:** Unlike conversion rates, there is a significant difference in the average purchase value between the groups. Group B has a higher average purchase value, indicating that users in this group chose more expensive tours.\n",
    "\n",
    "These results support the previous conclusions that while conversion rates are nearly identical across groups, Group B is more profitable due to its significantly higher average purchase value.\n"
   ]
  },
  {
   "cell_type": "markdown",
   "id": "c9169c4e",
   "metadata": {},
   "source": [
    "## Step 6. Overall Conclusions from A/B Test Results\n"
   ]
  },
  {
   "cell_type": "markdown",
   "id": "e84725bf",
   "metadata": {},
   "source": [
    "Overall Conclusion from A/B Test Results\n",
    "\n",
    "**Answer to the business question:** \"Which landing page design for the travel agency's website is more preferable?\"\n",
    "\n",
    "Based on the conducted A/B testing, the following conclusions can be drawn:\n",
    "\n",
    "1. **Conversion Rate:**\n",
    "   - Confidence intervals and statistical analysis indicate that **the difference in conversion rates between Groups A and B is not statistically significant**. This means that both landing page versions yield similar results in attracting users to purchase tours. In other words, the landing page design **does not significantly impact conversion rates**.\n",
    "\n",
    "2. **Average Purchase Value:**\n",
    "   - On the other hand, there is a **statistically significant difference in average purchase value** between Groups A and B. Group B shows a significantly **higher average purchase value** compared to Group A (a difference of approximately 7,000–8,000 RUB). This suggests that users interacting with Group B's landing page tend to purchase more expensive tours.\n",
    "\n",
    "#### Final Conclusion:\n",
    "\n",
    "- **Conversion rates** are similar for both pages, making both landing page versions equally effective in encouraging users to make purchases.\n",
    "- **Average purchase value** is significantly higher in Group B, making it the preferred option for increasing the company's total revenue.\n",
    "\n",
    "**Recommendation:**\n",
    "\n",
    "Based on the results of the A/B test, it can be concluded that **the landing page version for Group B is more preferable**, as it leads to higher purchase amounts, even with similar conversion rates. This allows the company to increase revenue without reducing the number of purchases.\n",
    "\n",
    "Thus, it is advisable to select and implement **the landing page version for Group B** as the more profitable option.\n"
   ]
  },
  {
   "cell_type": "markdown",
   "id": "b872612e",
   "metadata": {},
   "source": []
  }
 ],
 "metadata": {
  "kernelspec": {
   "display_name": "base",
   "language": "python",
   "name": "python3"
  },
  "language_info": {
   "codemirror_mode": {
    "name": "ipython",
    "version": 3
   },
   "file_extension": ".py",
   "mimetype": "text/x-python",
   "name": "python",
   "nbconvert_exporter": "python",
   "pygments_lexer": "ipython3",
   "version": "3.12.3"
  }
 },
 "nbformat": 4,
 "nbformat_minor": 5
}
